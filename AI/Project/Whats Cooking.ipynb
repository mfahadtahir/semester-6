{
 "cells": [
  {
   "cell_type": "markdown",
   "metadata": {},
   "source": [
    "# Dataset Exploring and Visulaization"
   ]
  },
  {
   "cell_type": "code",
   "execution_count": null,
   "metadata": {},
   "outputs": [],
   "source": []
  },
  {
   "cell_type": "code",
   "execution_count": 2,
   "metadata": {},
   "outputs": [
    {
     "name": "stdout",
     "output_type": "stream",
     "text": [
      "Defaulting to user installation because normal site-packages is not writeable\n",
      "Requirement already satisfied: pandas in /home/maxplanko89/.local/lib/python3.8/site-packages (1.2.4)\n",
      "Requirement already satisfied: python-dateutil>=2.7.3 in /home/maxplanko89/.local/lib/python3.8/site-packages (from pandas) (2.8.1)\n",
      "Requirement already satisfied: numpy>=1.16.5 in /home/maxplanko89/.local/lib/python3.8/site-packages (from pandas) (1.20.3)\n",
      "Requirement already satisfied: pytz>=2017.3 in /home/maxplanko89/.local/lib/python3.8/site-packages (from pandas) (2021.1)\n",
      "Requirement already satisfied: six>=1.5 in /usr/lib/python3/dist-packages (from python-dateutil>=2.7.3->pandas) (1.14.0)\n"
     ]
    }
   ],
   "source": [
    "import sys\n",
    "!{sys.executable} -m pip install pandas\n",
    "import pandas as pd\n",
    "import numpy as np\n",
    "import matplotlib.pyplot as plt\n",
    "#import seaborn as sns\n",
    "from pandas import DataFrame, Series\n",
    "%matplotlib inline\n",
    "\n"
   ]
  },
  {
   "cell_type": "code",
   "execution_count": 3,
   "metadata": {},
   "outputs": [
    {
     "name": "stdout",
     "output_type": "stream",
     "text": [
      "<class 'pandas.core.frame.DataFrame'>\n",
      "RangeIndex: 39774 entries, 0 to 39773\n",
      "Data columns (total 3 columns):\n",
      " #   Column       Non-Null Count  Dtype \n",
      "---  ------       --------------  ----- \n",
      " 0   id           39774 non-null  int64 \n",
      " 1   cuisine      39774 non-null  object\n",
      " 2   ingredients  39774 non-null  object\n",
      "dtypes: int64(1), object(2)\n",
      "memory usage: 932.3+ KB\n"
     ]
    }
   ],
   "source": [
    "df = pd.read_json('train.json')\n",
    "df.info()"
   ]
  },
  {
   "cell_type": "code",
   "execution_count": 4,
   "metadata": {},
   "outputs": [
    {
     "data": {
      "text/html": [
       "<div>\n",
       "<style scoped>\n",
       "    .dataframe tbody tr th:only-of-type {\n",
       "        vertical-align: middle;\n",
       "    }\n",
       "\n",
       "    .dataframe tbody tr th {\n",
       "        vertical-align: top;\n",
       "    }\n",
       "\n",
       "    .dataframe thead th {\n",
       "        text-align: right;\n",
       "    }\n",
       "</style>\n",
       "<table border=\"1\" class=\"dataframe\">\n",
       "  <thead>\n",
       "    <tr style=\"text-align: right;\">\n",
       "      <th></th>\n",
       "      <th>id</th>\n",
       "      <th>cuisine</th>\n",
       "      <th>ingredients</th>\n",
       "    </tr>\n",
       "  </thead>\n",
       "  <tbody>\n",
       "    <tr>\n",
       "      <th>0</th>\n",
       "      <td>10259</td>\n",
       "      <td>greek</td>\n",
       "      <td>[romaine lettuce, black olives, grape tomatoes...</td>\n",
       "    </tr>\n",
       "    <tr>\n",
       "      <th>1</th>\n",
       "      <td>25693</td>\n",
       "      <td>southern_us</td>\n",
       "      <td>[plain flour, ground pepper, salt, tomatoes, g...</td>\n",
       "    </tr>\n",
       "    <tr>\n",
       "      <th>2</th>\n",
       "      <td>20130</td>\n",
       "      <td>filipino</td>\n",
       "      <td>[eggs, pepper, salt, mayonaise, cooking oil, g...</td>\n",
       "    </tr>\n",
       "    <tr>\n",
       "      <th>3</th>\n",
       "      <td>22213</td>\n",
       "      <td>indian</td>\n",
       "      <td>[water, vegetable oil, wheat, salt]</td>\n",
       "    </tr>\n",
       "    <tr>\n",
       "      <th>4</th>\n",
       "      <td>13162</td>\n",
       "      <td>indian</td>\n",
       "      <td>[black pepper, shallots, cornflour, cayenne pe...</td>\n",
       "    </tr>\n",
       "    <tr>\n",
       "      <th>...</th>\n",
       "      <td>...</td>\n",
       "      <td>...</td>\n",
       "      <td>...</td>\n",
       "    </tr>\n",
       "    <tr>\n",
       "      <th>39769</th>\n",
       "      <td>29109</td>\n",
       "      <td>irish</td>\n",
       "      <td>[light brown sugar, granulated sugar, butter, ...</td>\n",
       "    </tr>\n",
       "    <tr>\n",
       "      <th>39770</th>\n",
       "      <td>11462</td>\n",
       "      <td>italian</td>\n",
       "      <td>[KRAFT Zesty Italian Dressing, purple onion, b...</td>\n",
       "    </tr>\n",
       "    <tr>\n",
       "      <th>39771</th>\n",
       "      <td>2238</td>\n",
       "      <td>irish</td>\n",
       "      <td>[eggs, citrus fruit, raisins, sourdough starte...</td>\n",
       "    </tr>\n",
       "    <tr>\n",
       "      <th>39772</th>\n",
       "      <td>41882</td>\n",
       "      <td>chinese</td>\n",
       "      <td>[boneless chicken skinless thigh, minced garli...</td>\n",
       "    </tr>\n",
       "    <tr>\n",
       "      <th>39773</th>\n",
       "      <td>2362</td>\n",
       "      <td>mexican</td>\n",
       "      <td>[green chile, jalapeno chilies, onions, ground...</td>\n",
       "    </tr>\n",
       "  </tbody>\n",
       "</table>\n",
       "<p>39774 rows × 3 columns</p>\n",
       "</div>"
      ],
      "text/plain": [
       "          id      cuisine                                        ingredients\n",
       "0      10259        greek  [romaine lettuce, black olives, grape tomatoes...\n",
       "1      25693  southern_us  [plain flour, ground pepper, salt, tomatoes, g...\n",
       "2      20130     filipino  [eggs, pepper, salt, mayonaise, cooking oil, g...\n",
       "3      22213       indian                [water, vegetable oil, wheat, salt]\n",
       "4      13162       indian  [black pepper, shallots, cornflour, cayenne pe...\n",
       "...      ...          ...                                                ...\n",
       "39769  29109        irish  [light brown sugar, granulated sugar, butter, ...\n",
       "39770  11462      italian  [KRAFT Zesty Italian Dressing, purple onion, b...\n",
       "39771   2238        irish  [eggs, citrus fruit, raisins, sourdough starte...\n",
       "39772  41882      chinese  [boneless chicken skinless thigh, minced garli...\n",
       "39773   2362      mexican  [green chile, jalapeno chilies, onions, ground...\n",
       "\n",
       "[39774 rows x 3 columns]"
      ]
     },
     "execution_count": 4,
     "metadata": {},
     "output_type": "execute_result"
    }
   ],
   "source": [
    "df"
   ]
  },
  {
   "cell_type": "code",
   "execution_count": 5,
   "metadata": {},
   "outputs": [
    {
     "data": {
      "text/plain": [
       "(39774, 3)"
      ]
     },
     "execution_count": 5,
     "metadata": {},
     "output_type": "execute_result"
    }
   ],
   "source": [
    "df.shape"
   ]
  },
  {
   "cell_type": "code",
   "execution_count": 6,
   "metadata": {},
   "outputs": [
    {
     "data": {
      "text/plain": [
       "cuisine\n",
       "brazilian        467\n",
       "british          804\n",
       "cajun_creole    1546\n",
       "chinese         2673\n",
       "filipino         755\n",
       "french          2646\n",
       "greek           1175\n",
       "indian          3003\n",
       "irish            667\n",
       "italian         7838\n",
       "jamaican         526\n",
       "japanese        1423\n",
       "korean           830\n",
       "mexican         6438\n",
       "moroccan         821\n",
       "russian          489\n",
       "southern_us     4320\n",
       "spanish          989\n",
       "thai            1539\n",
       "vietnamese       825\n",
       "dtype: int64"
      ]
     },
     "execution_count": 6,
     "metadata": {},
     "output_type": "execute_result"
    }
   ],
   "source": [
    "df.groupby('cuisine').size()"
   ]
  },
  {
   "cell_type": "code",
   "execution_count": 7,
   "metadata": {},
   "outputs": [
    {
     "data": {
      "text/plain": [
       "id             0\n",
       "cuisine        0\n",
       "ingredients    0\n",
       "dtype: int64"
      ]
     },
     "execution_count": 7,
     "metadata": {},
     "output_type": "execute_result"
    }
   ],
   "source": [
    "df.isnull().sum()"
   ]
  },
  {
   "cell_type": "code",
   "execution_count": 8,
   "metadata": {},
   "outputs": [
    {
     "data": {
      "text/plain": [
       "id             0.0\n",
       "cuisine        0.0\n",
       "ingredients    0.0\n",
       "dtype: float64"
      ]
     },
     "execution_count": 8,
     "metadata": {},
     "output_type": "execute_result"
    }
   ],
   "source": [
    "df2 = df[df.applymap(lambda x: x[0] if isinstance(x, list) else x).duplicated()]\n",
    "df2.sum()"
   ]
  },
  {
   "cell_type": "code",
   "execution_count": 9,
   "metadata": {},
   "outputs": [
    {
     "data": {
      "text/html": [
       "<div>\n",
       "<style scoped>\n",
       "    .dataframe tbody tr th:only-of-type {\n",
       "        vertical-align: middle;\n",
       "    }\n",
       "\n",
       "    .dataframe tbody tr th {\n",
       "        vertical-align: top;\n",
       "    }\n",
       "\n",
       "    .dataframe thead th {\n",
       "        text-align: right;\n",
       "    }\n",
       "</style>\n",
       "<table border=\"1\" class=\"dataframe\">\n",
       "  <thead>\n",
       "    <tr style=\"text-align: right;\">\n",
       "      <th></th>\n",
       "      <th>id</th>\n",
       "    </tr>\n",
       "  </thead>\n",
       "  <tbody>\n",
       "    <tr>\n",
       "      <th>count</th>\n",
       "      <td>39774.000000</td>\n",
       "    </tr>\n",
       "    <tr>\n",
       "      <th>mean</th>\n",
       "      <td>24849.536959</td>\n",
       "    </tr>\n",
       "    <tr>\n",
       "      <th>std</th>\n",
       "      <td>14360.035505</td>\n",
       "    </tr>\n",
       "    <tr>\n",
       "      <th>min</th>\n",
       "      <td>0.000000</td>\n",
       "    </tr>\n",
       "    <tr>\n",
       "      <th>25%</th>\n",
       "      <td>12398.250000</td>\n",
       "    </tr>\n",
       "    <tr>\n",
       "      <th>50%</th>\n",
       "      <td>24887.000000</td>\n",
       "    </tr>\n",
       "    <tr>\n",
       "      <th>75%</th>\n",
       "      <td>37328.500000</td>\n",
       "    </tr>\n",
       "    <tr>\n",
       "      <th>max</th>\n",
       "      <td>49717.000000</td>\n",
       "    </tr>\n",
       "  </tbody>\n",
       "</table>\n",
       "</div>"
      ],
      "text/plain": [
       "                 id\n",
       "count  39774.000000\n",
       "mean   24849.536959\n",
       "std    14360.035505\n",
       "min        0.000000\n",
       "25%    12398.250000\n",
       "50%    24887.000000\n",
       "75%    37328.500000\n",
       "max    49717.000000"
      ]
     },
     "execution_count": 9,
     "metadata": {},
     "output_type": "execute_result"
    }
   ],
   "source": [
    "df.describe()"
   ]
  },
  {
   "cell_type": "code",
   "execution_count": 10,
   "metadata": {},
   "outputs": [
    {
     "data": {
      "text/plain": [
       "italian         19.706341\n",
       "mexican         16.186453\n",
       "southern_us     10.861367\n",
       "indian           7.550158\n",
       "chinese          6.720471\n",
       "french           6.652587\n",
       "cajun_creole     3.886961\n",
       "thai             3.869362\n",
       "japanese         3.577714\n",
       "greek            2.954191\n",
       "spanish          2.486549\n",
       "korean           2.086790\n",
       "vietnamese       2.074219\n",
       "moroccan         2.064163\n",
       "british          2.021421\n",
       "filipino         1.898225\n",
       "irish            1.676975\n",
       "jamaican         1.322472\n",
       "russian          1.229446\n",
       "brazilian        1.174134\n",
       "Name: cuisine, dtype: float64"
      ]
     },
     "execution_count": 10,
     "metadata": {},
     "output_type": "execute_result"
    }
   ],
   "source": [
    "df['cuisine'].value_counts(normalize=True) *100"
   ]
  },
  {
   "cell_type": "code",
   "execution_count": 11,
   "metadata": {},
   "outputs": [
    {
     "data": {
      "text/plain": [
       "italian         7838\n",
       "mexican         6438\n",
       "southern_us     4320\n",
       "indian          3003\n",
       "chinese         2673\n",
       "french          2646\n",
       "cajun_creole    1546\n",
       "thai            1539\n",
       "japanese        1423\n",
       "greek           1175\n",
       "spanish          989\n",
       "korean           830\n",
       "vietnamese       825\n",
       "moroccan         821\n",
       "british          804\n",
       "filipino         755\n",
       "irish            667\n",
       "jamaican         526\n",
       "russian          489\n",
       "brazilian        467\n",
       "Name: cuisine, dtype: int64"
      ]
     },
     "execution_count": 11,
     "metadata": {},
     "output_type": "execute_result"
    }
   ],
   "source": [
    "# Number of recipes per cuisine\n",
    "totalCount = df['cuisine'].value_counts()\n",
    "totalCount"
   ]
  },
  {
   "cell_type": "code",
   "execution_count": 12,
   "metadata": {},
   "outputs": [
    {
     "data": {
      "text/plain": [
       "Text(0.5, 1.0, 'Total Number of recipes per cuisine')"
      ]
     },
     "execution_count": 12,
     "metadata": {},
     "output_type": "execute_result"
    },
    {
     "data": {
      "image/png": "[encoded data removed]",
      "text/plain": [
       "<Figure size 432x288 with 1 Axes>"
      ]
     },
     "metadata": {
      "needs_background": "light"
     },
     "output_type": "display_data"
    }
   ],
   "source": [
    "#Plot Bar Graph\n",
    "plt = totalCount.plot(kind='bar', rot=90 , fontsize=10)\n",
    "plt.set_xlabel('Ingredient', fontsize=15)\n",
    "plt.set_ylabel('Number of recipes', fontsize=15)\n",
    "plt.set_title('Total Number of recipes per cuisine', fontsize=20, color='red')"
   ]
  },
  {
   "cell_type": "code",
   "execution_count": 13,
   "metadata": {},
   "outputs": [],
   "source": [
    "# Top 10 most occurring ingredients\n",
    "def get_ingredients(data):\n",
    "    all_ingredients = []\n",
    "    for i in range(len(data)):\n",
    "        if isinstance(data, pd.core.frame.DataFrame):\n",
    "            all_ingredients.extend(data.loc[i, 'ingredients'])\n",
    "        else:\n",
    "            all_ingredients.extend(data.iloc[i])\n",
    "    return Series(all_ingredients)\n"
   ]
  },
  {
   "cell_type": "code",
   "execution_count": 14,
   "metadata": {},
   "outputs": [
    {
     "data": {
      "text/plain": [
       "Text(0.5, 1.0, 'Most common ingredients')"
      ]
     },
     "execution_count": 14,
     "metadata": {},
     "output_type": "execute_result"
    },
    {
     "data": {
      "image/png": "[encoded data removed]",
      "text/plain": [
       "<Figure size 432x288 with 1 Axes>"
      ]
     },
     "metadata": {
      "needs_background": "light"
     },
     "output_type": "display_data"
    }
   ],
   "source": [
    "ingredients = get_ingredients(df[\"ingredients\"])\n",
    "plt = ingredients.value_counts()[:10].plot(kind='bar', rot=90,fontsize=10)\n",
    "plt.set_xlabel('Occurrences', fontsize=15)\n",
    "plt.set_ylabel('Ingredients', fontsize=15)\n",
    "plt.set_title('Most common ingredients', fontsize=20 , color='red')\n"
   ]
  },
  {
   "cell_type": "code",
   "execution_count": 15,
   "metadata": {
    "scrolled": true
   },
   "outputs": [
    {
     "data": {
      "text/plain": [
       "cuisine\n",
       "brazilian       [ice cubes, club soda, white rum, lime, turbin...\n",
       "british         [greek yogurt, lemon curd, confectioners sugar...\n",
       "cajun_creole    [herbs, lemon juice, fresh tomatoes, paprika, ...\n",
       "chinese         [low sodium soy sauce, fresh ginger, dry musta...\n",
       "filipino        [eggs, pepper, salt, mayonaise, cooking oil, g...\n",
       "french          [sugar, salt, fennel bulb, water, lemon olive ...\n",
       "greek           [romaine lettuce, black olives, grape tomatoes...\n",
       "indian          [water, vegetable oil, wheat, salt, black pepp...\n",
       "irish           [cooking spray, salt, black pepper, yukon gold...\n",
       "italian         [sugar, pistachio nuts, white almond bark, flo...\n",
       "jamaican        [plain flour, sugar, butter, eggs, fresh ginge...\n",
       "japanese        [sirloin, mirin, yellow onion, low sodium soy ...\n",
       "korean          [jasmine rice, garlic, scallions, sugar, shiit...\n",
       "mexican         [olive oil, purple onion, fresh pineapple, por...\n",
       "moroccan        [ground cloves, whole nutmegs, ground ginger, ...\n",
       "russian         [water, grits, mozzarella cheese, salt, water,...\n",
       "southern_us     [plain flour, ground pepper, salt, tomatoes, g...\n",
       "spanish         [olive oil, salt, medium shrimp, pepper, garli...\n",
       "thai            [sugar, hot chili, asian fish sauce, lime juic...\n",
       "vietnamese      [soy sauce, vegetable oil, red bell pepper, ch...\n",
       "Name: ingredients, dtype: object"
      ]
     },
     "execution_count": 15,
     "metadata": {},
     "output_type": "execute_result"
    }
   ],
   "source": [
    "# Group all ingredients by cuisine\n",
    "groupbyCuisine = df.groupby('cuisine')['ingredients'].sum()\n",
    "groupbyCuisine"
   ]
  },
  {
   "cell_type": "code",
   "execution_count": 16,
   "metadata": {},
   "outputs": [
    {
     "data": {
      "text/plain": [
       "cuisine\n",
       "brazilian       {'salt': 194, 'onions': 133, 'olive oil': 118,...\n",
       "british         {'salt': 407, 'all-purpose flour': 238, 'butte...\n",
       "cajun_creole    {'salt': 743, 'onions': 529, 'garlic': 370, 'g...\n",
       "chinese         {'soy sauce': 1363, 'sesame oil': 915, 'salt':...\n",
       "filipino        {'salt': 421, 'garlic': 325, 'water': 310, 'on...\n",
       "french          {'salt': 1203, 'sugar': 637, 'all-purpose flou...\n",
       "greek           {'salt': 572, 'olive oil': 504, 'dried oregano...\n",
       "indian          {'salt': 1934, 'onions': 1195, 'garam masala':...\n",
       "irish           {'salt': 376, 'butter': 219, 'all-purpose flou...\n",
       "italian         {'salt': 3454, 'olive oil': 3111, 'garlic clov...\n",
       "jamaican        {'salt': 332, 'onions': 173, 'water': 153, 'ga...\n",
       "japanese        {'soy sauce': 561, 'salt': 422, 'mirin': 402, ...\n",
       "korean          {'soy sauce': 427, 'sesame oil': 403, 'garlic'...\n",
       "mexican         {'salt': 2720, 'onions': 1493, 'ground cumin':...\n",
       "moroccan        {'salt': 413, 'olive oil': 412, 'ground cumin'...\n",
       "russian         {'salt': 288, 'sugar': 155, 'onions': 145, 'al...\n",
       "southern_us     {'salt': 2290, 'butter': 1255, 'all-purpose fl...\n",
       "spanish         {'salt': 460, 'olive oil': 387, 'garlic cloves...\n",
       "thai            {'fish sauce': 625, 'garlic': 414, 'salt': 396...\n",
       "vietnamese      {'fish sauce': 392, 'sugar': 344, 'salt': 264,...\n",
       "Name: ingredients, dtype: object"
      ]
     },
     "execution_count": 16,
     "metadata": {},
     "output_type": "execute_result"
    }
   ],
   "source": [
    "#Count the number of times each ingredient appears in each cuisine\n",
    "def frequencyItems(group):\n",
    "    return dict(Series(group).value_counts())\n",
    "\n",
    "frequency = groupbyCuisine.apply(frequencyItems)\n",
    "frequency"
   ]
  },
  {
   "cell_type": "code",
   "execution_count": 17,
   "metadata": {},
   "outputs": [
    {
     "data": {
      "text/plain": [
       "cuisine\n",
       "brazilian       [tilapia, frozen strawberries, whole cloves, a...\n",
       "british         [tilapia, fillet steaks, green leaf lettuce, e...\n",
       "cajun_creole    [tilapia, roast breast of chicken, bacon dripp...\n",
       "chinese         [tilapia, bean curd skins, dipping sauces, dic...\n",
       "filipino        [tamari soy sauce, tilapia, apple cider, bacon...\n",
       "french          [sliced pears, roast breast of chicken, frankf...\n",
       "greek           [filo, green leaf lettuce, whole cloves, pitte...\n",
       "indian          [dipping sauces, diced green chilies, grained,...\n",
       "irish           [apple cider, bacon drippings, sesame oil, who...\n",
       "italian         [tilapia, roast breast of chicken, cheese stic...\n",
       "jamaican        [tamari soy sauce, green leaf lettuce, sesame ...\n",
       "japanese        [tilapia, dipping sauces, yoghurt, chili bean ...\n",
       "korean          [tamari soy sauce, green leaf lettuce, apple c...\n",
       "mexican         [tilapia, roast breast of chicken, ground coff...\n",
       "moroccan        [whole cloves, pitted black olives, dipping sa...\n",
       "russian         [filo, roast breast of chicken, apple cider, b...\n",
       "southern_us     [tilapia, sliced pears, bacon drippings, dippi...\n",
       "spanish         [bacon drippings, dried tarragon leaves, ketch...\n",
       "thai            [tilapia, roast breast of chicken, dipping sau...\n",
       "vietnamese      [tamari soy sauce, tilapia, roast breast of ch...\n",
       "Name: ingredients, dtype: object"
      ]
     },
     "execution_count": 17,
     "metadata": {},
     "output_type": "execute_result"
    }
   ],
   "source": [
    "# Get unique ingredients by cuisine\n",
    "def removeDuplicatesItems(value):\n",
    "    return list(set(value))\n",
    "\n",
    "uniqueItems = groupbyCuisine.apply(removeDuplicatesItems)\n",
    "uniqueItems"
   ]
  },
  {
   "cell_type": "code",
   "execution_count": 18,
   "metadata": {},
   "outputs": [
    {
     "data": {
      "text/plain": [
       "Text(0.5, 1.0, 'Unique ingredients by cuisine')"
      ]
     },
     "execution_count": 18,
     "metadata": {},
     "output_type": "execute_result"
    },
    {
     "data": {
      "image/png": "[encoded data removed]",
      "text/plain": [
       "<Figure size 432x288 with 1 Axes>"
      ]
     },
     "metadata": {
      "needs_background": "light"
     },
     "output_type": "display_data"
    }
   ],
   "source": [
    "# Number of unique ingredients used by cuisine\n",
    "x = uniqueItems.apply(len).sort_values(ascending=False)\n",
    "plt = x.plot(kind='bar', rot=90, fontsize=10)\n",
    "plt.set_xlabel('Cuisine', fontsize=15)\n",
    "plt.set_ylabel('Number of unique Ingredients', fontsize=15)\n",
    "plt.set_title('Unique ingredients by cuisine', fontsize=20 , color='red')"
   ]
  },
  {
   "cell_type": "code",
   "execution_count": 19,
   "metadata": {},
   "outputs": [
    {
     "name": "stdout",
     "output_type": "stream",
     "text": [
      "Total Unique ingredients = 6714\n"
     ]
    }
   ],
   "source": [
    "#Unique ingredients in the dataset\n",
    "unique_ingredients = Series(get_ingredients(uniqueItems).unique())\n",
    "count= len(unique_ingredients)\n",
    "print('Total Unique ingredients =', count)"
   ]
  },
  {
   "cell_type": "markdown",
   "metadata": {},
   "source": [
    "# Data Cleaning"
   ]
  },
  {
   "cell_type": "code",
   "execution_count": 20,
   "metadata": {},
   "outputs": [
    {
     "data": {
      "text/plain": [
       "(39774, 6714)"
      ]
     },
     "execution_count": 20,
     "metadata": {},
     "output_type": "execute_result"
    }
   ],
   "source": [
    "#Make dummy of dataset\n",
    "from sklearn.preprocessing import MultiLabelBinarizer\n",
    "mlb = MultiLabelBinarizer()\n",
    "temp = DataFrame(mlb.fit_transform(df['ingredients']), columns=mlb.classes_, index=df.index)\n",
    "temp.shape"
   ]
  },
  {
   "cell_type": "code",
   "execution_count": 21,
   "metadata": {},
   "outputs": [
    {
     "data": {
      "text/html": [
       "<div>\n",
       "<style scoped>\n",
       "    .dataframe tbody tr th:only-of-type {\n",
       "        vertical-align: middle;\n",
       "    }\n",
       "\n",
       "    .dataframe tbody tr th {\n",
       "        vertical-align: top;\n",
       "    }\n",
       "\n",
       "    .dataframe thead th {\n",
       "        text-align: right;\n",
       "    }\n",
       "</style>\n",
       "<table border=\"1\" class=\"dataframe\">\n",
       "  <thead>\n",
       "    <tr style=\"text-align: right;\">\n",
       "      <th></th>\n",
       "      <th>(    oz.) tomato sauce</th>\n",
       "      <th>(   oz.) tomato paste</th>\n",
       "      <th>(10 oz.) frozen chopped spinach</th>\n",
       "      <th>(10 oz.) frozen chopped spinach, thawed and squeezed dry</th>\n",
       "      <th>(14 oz.) sweetened condensed milk</th>\n",
       "      <th>(14.5 oz.) diced tomatoes</th>\n",
       "      <th>(15 oz.) refried beans</th>\n",
       "      <th>1% low-fat buttermilk</th>\n",
       "      <th>1% low-fat chocolate milk</th>\n",
       "      <th>1% low-fat cottage cheese</th>\n",
       "      <th>...</th>\n",
       "      <th>yukon gold potatoes</th>\n",
       "      <th>yuzu</th>\n",
       "      <th>yuzu juice</th>\n",
       "      <th>za'atar</th>\n",
       "      <th>zest</th>\n",
       "      <th>zesty italian dressing</th>\n",
       "      <th>zinfandel</th>\n",
       "      <th>ziti</th>\n",
       "      <th>zucchini</th>\n",
       "      <th>zucchini blossoms</th>\n",
       "    </tr>\n",
       "  </thead>\n",
       "  <tbody>\n",
       "    <tr>\n",
       "      <th>0</th>\n",
       "      <td>0</td>\n",
       "      <td>0</td>\n",
       "      <td>0</td>\n",
       "      <td>0</td>\n",
       "      <td>0</td>\n",
       "      <td>0</td>\n",
       "      <td>0</td>\n",
       "      <td>0</td>\n",
       "      <td>0</td>\n",
       "      <td>0</td>\n",
       "      <td>...</td>\n",
       "      <td>0</td>\n",
       "      <td>0</td>\n",
       "      <td>0</td>\n",
       "      <td>0</td>\n",
       "      <td>0</td>\n",
       "      <td>0</td>\n",
       "      <td>0</td>\n",
       "      <td>0</td>\n",
       "      <td>0</td>\n",
       "      <td>0</td>\n",
       "    </tr>\n",
       "    <tr>\n",
       "      <th>1</th>\n",
       "      <td>0</td>\n",
       "      <td>0</td>\n",
       "      <td>0</td>\n",
       "      <td>0</td>\n",
       "      <td>0</td>\n",
       "      <td>0</td>\n",
       "      <td>0</td>\n",
       "      <td>0</td>\n",
       "      <td>0</td>\n",
       "      <td>0</td>\n",
       "      <td>...</td>\n",
       "      <td>0</td>\n",
       "      <td>0</td>\n",
       "      <td>0</td>\n",
       "      <td>0</td>\n",
       "      <td>0</td>\n",
       "      <td>0</td>\n",
       "      <td>0</td>\n",
       "      <td>0</td>\n",
       "      <td>0</td>\n",
       "      <td>0</td>\n",
       "    </tr>\n",
       "    <tr>\n",
       "      <th>2</th>\n",
       "      <td>0</td>\n",
       "      <td>0</td>\n",
       "      <td>0</td>\n",
       "      <td>0</td>\n",
       "      <td>0</td>\n",
       "      <td>0</td>\n",
       "      <td>0</td>\n",
       "      <td>0</td>\n",
       "      <td>0</td>\n",
       "      <td>0</td>\n",
       "      <td>...</td>\n",
       "      <td>0</td>\n",
       "      <td>0</td>\n",
       "      <td>0</td>\n",
       "      <td>0</td>\n",
       "      <td>0</td>\n",
       "      <td>0</td>\n",
       "      <td>0</td>\n",
       "      <td>0</td>\n",
       "      <td>0</td>\n",
       "      <td>0</td>\n",
       "    </tr>\n",
       "    <tr>\n",
       "      <th>3</th>\n",
       "      <td>0</td>\n",
       "      <td>0</td>\n",
       "      <td>0</td>\n",
       "      <td>0</td>\n",
       "      <td>0</td>\n",
       "      <td>0</td>\n",
       "      <td>0</td>\n",
       "      <td>0</td>\n",
       "      <td>0</td>\n",
       "      <td>0</td>\n",
       "      <td>...</td>\n",
       "      <td>0</td>\n",
       "      <td>0</td>\n",
       "      <td>0</td>\n",
       "      <td>0</td>\n",
       "      <td>0</td>\n",
       "      <td>0</td>\n",
       "      <td>0</td>\n",
       "      <td>0</td>\n",
       "      <td>0</td>\n",
       "      <td>0</td>\n",
       "    </tr>\n",
       "    <tr>\n",
       "      <th>4</th>\n",
       "      <td>0</td>\n",
       "      <td>0</td>\n",
       "      <td>0</td>\n",
       "      <td>0</td>\n",
       "      <td>0</td>\n",
       "      <td>0</td>\n",
       "      <td>0</td>\n",
       "      <td>0</td>\n",
       "      <td>0</td>\n",
       "      <td>0</td>\n",
       "      <td>...</td>\n",
       "      <td>0</td>\n",
       "      <td>0</td>\n",
       "      <td>0</td>\n",
       "      <td>0</td>\n",
       "      <td>0</td>\n",
       "      <td>0</td>\n",
       "      <td>0</td>\n",
       "      <td>0</td>\n",
       "      <td>0</td>\n",
       "      <td>0</td>\n",
       "    </tr>\n",
       "  </tbody>\n",
       "</table>\n",
       "<p>5 rows × 6714 columns</p>\n",
       "</div>"
      ],
      "text/plain": [
       "   (    oz.) tomato sauce  (   oz.) tomato paste  \\\n",
       "0                       0                      0   \n",
       "1                       0                      0   \n",
       "2                       0                      0   \n",
       "3                       0                      0   \n",
       "4                       0                      0   \n",
       "\n",
       "   (10 oz.) frozen chopped spinach  \\\n",
       "0                                0   \n",
       "1                                0   \n",
       "2                                0   \n",
       "3                                0   \n",
       "4                                0   \n",
       "\n",
       "   (10 oz.) frozen chopped spinach, thawed and squeezed dry  \\\n",
       "0                                                  0          \n",
       "1                                                  0          \n",
       "2                                                  0          \n",
       "3                                                  0          \n",
       "4                                                  0          \n",
       "\n",
       "   (14 oz.) sweetened condensed milk  (14.5 oz.) diced tomatoes  \\\n",
       "0                                  0                          0   \n",
       "1                                  0                          0   \n",
       "2                                  0                          0   \n",
       "3                                  0                          0   \n",
       "4                                  0                          0   \n",
       "\n",
       "   (15 oz.) refried beans  1% low-fat buttermilk  1% low-fat chocolate milk  \\\n",
       "0                       0                      0                          0   \n",
       "1                       0                      0                          0   \n",
       "2                       0                      0                          0   \n",
       "3                       0                      0                          0   \n",
       "4                       0                      0                          0   \n",
       "\n",
       "   1% low-fat cottage cheese  ...  yukon gold potatoes  yuzu  yuzu juice  \\\n",
       "0                          0  ...                    0     0           0   \n",
       "1                          0  ...                    0     0           0   \n",
       "2                          0  ...                    0     0           0   \n",
       "3                          0  ...                    0     0           0   \n",
       "4                          0  ...                    0     0           0   \n",
       "\n",
       "   za'atar  zest  zesty italian dressing  zinfandel  ziti  zucchini  \\\n",
       "0        0     0                       0          0     0         0   \n",
       "1        0     0                       0          0     0         0   \n",
       "2        0     0                       0          0     0         0   \n",
       "3        0     0                       0          0     0         0   \n",
       "4        0     0                       0          0     0         0   \n",
       "\n",
       "   zucchini blossoms  \n",
       "0                  0  \n",
       "1                  0  \n",
       "2                  0  \n",
       "3                  0  \n",
       "4                  0  \n",
       "\n",
       "[5 rows x 6714 columns]"
      ]
     },
     "execution_count": 21,
     "metadata": {},
     "output_type": "execute_result"
    }
   ],
   "source": [
    "temp.head()"
   ]
  },
  {
   "cell_type": "code",
   "execution_count": 22,
   "metadata": {},
   "outputs": [
    {
     "data": {
      "text/plain": [
       "(39774, 6716)"
      ]
     },
     "execution_count": 22,
     "metadata": {},
     "output_type": "execute_result"
    }
   ],
   "source": [
    "# Join Original and Dummfied\n",
    "df2 = df.iloc[:].reindex(['cuisine', 'id'], axis=1)\n",
    "df_new = df2.join(temp)\n",
    "\n",
    "df_new.shape"
   ]
  },
  {
   "cell_type": "code",
   "execution_count": 23,
   "metadata": {},
   "outputs": [
    {
     "data": {
      "text/html": [
       "<div>\n",
       "<style scoped>\n",
       "    .dataframe tbody tr th:only-of-type {\n",
       "        vertical-align: middle;\n",
       "    }\n",
       "\n",
       "    .dataframe tbody tr th {\n",
       "        vertical-align: top;\n",
       "    }\n",
       "\n",
       "    .dataframe thead th {\n",
       "        text-align: right;\n",
       "    }\n",
       "</style>\n",
       "<table border=\"1\" class=\"dataframe\">\n",
       "  <thead>\n",
       "    <tr style=\"text-align: right;\">\n",
       "      <th></th>\n",
       "      <th>cuisine</th>\n",
       "      <th>id</th>\n",
       "      <th>(    oz.) tomato sauce</th>\n",
       "      <th>(   oz.) tomato paste</th>\n",
       "      <th>(10 oz.) frozen chopped spinach</th>\n",
       "      <th>(10 oz.) frozen chopped spinach, thawed and squeezed dry</th>\n",
       "      <th>(14 oz.) sweetened condensed milk</th>\n",
       "      <th>(14.5 oz.) diced tomatoes</th>\n",
       "      <th>(15 oz.) refried beans</th>\n",
       "      <th>1% low-fat buttermilk</th>\n",
       "      <th>...</th>\n",
       "      <th>yukon gold potatoes</th>\n",
       "      <th>yuzu</th>\n",
       "      <th>yuzu juice</th>\n",
       "      <th>za'atar</th>\n",
       "      <th>zest</th>\n",
       "      <th>zesty italian dressing</th>\n",
       "      <th>zinfandel</th>\n",
       "      <th>ziti</th>\n",
       "      <th>zucchini</th>\n",
       "      <th>zucchini blossoms</th>\n",
       "    </tr>\n",
       "  </thead>\n",
       "  <tbody>\n",
       "    <tr>\n",
       "      <th>0</th>\n",
       "      <td>greek</td>\n",
       "      <td>10259</td>\n",
       "      <td>0</td>\n",
       "      <td>0</td>\n",
       "      <td>0</td>\n",
       "      <td>0</td>\n",
       "      <td>0</td>\n",
       "      <td>0</td>\n",
       "      <td>0</td>\n",
       "      <td>0</td>\n",
       "      <td>...</td>\n",
       "      <td>0</td>\n",
       "      <td>0</td>\n",
       "      <td>0</td>\n",
       "      <td>0</td>\n",
       "      <td>0</td>\n",
       "      <td>0</td>\n",
       "      <td>0</td>\n",
       "      <td>0</td>\n",
       "      <td>0</td>\n",
       "      <td>0</td>\n",
       "    </tr>\n",
       "    <tr>\n",
       "      <th>1</th>\n",
       "      <td>southern_us</td>\n",
       "      <td>25693</td>\n",
       "      <td>0</td>\n",
       "      <td>0</td>\n",
       "      <td>0</td>\n",
       "      <td>0</td>\n",
       "      <td>0</td>\n",
       "      <td>0</td>\n",
       "      <td>0</td>\n",
       "      <td>0</td>\n",
       "      <td>...</td>\n",
       "      <td>0</td>\n",
       "      <td>0</td>\n",
       "      <td>0</td>\n",
       "      <td>0</td>\n",
       "      <td>0</td>\n",
       "      <td>0</td>\n",
       "      <td>0</td>\n",
       "      <td>0</td>\n",
       "      <td>0</td>\n",
       "      <td>0</td>\n",
       "    </tr>\n",
       "    <tr>\n",
       "      <th>2</th>\n",
       "      <td>filipino</td>\n",
       "      <td>20130</td>\n",
       "      <td>0</td>\n",
       "      <td>0</td>\n",
       "      <td>0</td>\n",
       "      <td>0</td>\n",
       "      <td>0</td>\n",
       "      <td>0</td>\n",
       "      <td>0</td>\n",
       "      <td>0</td>\n",
       "      <td>...</td>\n",
       "      <td>0</td>\n",
       "      <td>0</td>\n",
       "      <td>0</td>\n",
       "      <td>0</td>\n",
       "      <td>0</td>\n",
       "      <td>0</td>\n",
       "      <td>0</td>\n",
       "      <td>0</td>\n",
       "      <td>0</td>\n",
       "      <td>0</td>\n",
       "    </tr>\n",
       "    <tr>\n",
       "      <th>3</th>\n",
       "      <td>indian</td>\n",
       "      <td>22213</td>\n",
       "      <td>0</td>\n",
       "      <td>0</td>\n",
       "      <td>0</td>\n",
       "      <td>0</td>\n",
       "      <td>0</td>\n",
       "      <td>0</td>\n",
       "      <td>0</td>\n",
       "      <td>0</td>\n",
       "      <td>...</td>\n",
       "      <td>0</td>\n",
       "      <td>0</td>\n",
       "      <td>0</td>\n",
       "      <td>0</td>\n",
       "      <td>0</td>\n",
       "      <td>0</td>\n",
       "      <td>0</td>\n",
       "      <td>0</td>\n",
       "      <td>0</td>\n",
       "      <td>0</td>\n",
       "    </tr>\n",
       "    <tr>\n",
       "      <th>4</th>\n",
       "      <td>indian</td>\n",
       "      <td>13162</td>\n",
       "      <td>0</td>\n",
       "      <td>0</td>\n",
       "      <td>0</td>\n",
       "      <td>0</td>\n",
       "      <td>0</td>\n",
       "      <td>0</td>\n",
       "      <td>0</td>\n",
       "      <td>0</td>\n",
       "      <td>...</td>\n",
       "      <td>0</td>\n",
       "      <td>0</td>\n",
       "      <td>0</td>\n",
       "      <td>0</td>\n",
       "      <td>0</td>\n",
       "      <td>0</td>\n",
       "      <td>0</td>\n",
       "      <td>0</td>\n",
       "      <td>0</td>\n",
       "      <td>0</td>\n",
       "    </tr>\n",
       "  </tbody>\n",
       "</table>\n",
       "<p>5 rows × 6716 columns</p>\n",
       "</div>"
      ],
      "text/plain": [
       "       cuisine     id  (    oz.) tomato sauce  (   oz.) tomato paste  \\\n",
       "0        greek  10259                       0                      0   \n",
       "1  southern_us  25693                       0                      0   \n",
       "2     filipino  20130                       0                      0   \n",
       "3       indian  22213                       0                      0   \n",
       "4       indian  13162                       0                      0   \n",
       "\n",
       "   (10 oz.) frozen chopped spinach  \\\n",
       "0                                0   \n",
       "1                                0   \n",
       "2                                0   \n",
       "3                                0   \n",
       "4                                0   \n",
       "\n",
       "   (10 oz.) frozen chopped spinach, thawed and squeezed dry  \\\n",
       "0                                                  0          \n",
       "1                                                  0          \n",
       "2                                                  0          \n",
       "3                                                  0          \n",
       "4                                                  0          \n",
       "\n",
       "   (14 oz.) sweetened condensed milk  (14.5 oz.) diced tomatoes  \\\n",
       "0                                  0                          0   \n",
       "1                                  0                          0   \n",
       "2                                  0                          0   \n",
       "3                                  0                          0   \n",
       "4                                  0                          0   \n",
       "\n",
       "   (15 oz.) refried beans  1% low-fat buttermilk  ...  yukon gold potatoes  \\\n",
       "0                       0                      0  ...                    0   \n",
       "1                       0                      0  ...                    0   \n",
       "2                       0                      0  ...                    0   \n",
       "3                       0                      0  ...                    0   \n",
       "4                       0                      0  ...                    0   \n",
       "\n",
       "   yuzu  yuzu juice  za'atar  zest  zesty italian dressing  zinfandel  ziti  \\\n",
       "0     0           0        0     0                       0          0     0   \n",
       "1     0           0        0     0                       0          0     0   \n",
       "2     0           0        0     0                       0          0     0   \n",
       "3     0           0        0     0                       0          0     0   \n",
       "4     0           0        0     0                       0          0     0   \n",
       "\n",
       "   zucchini  zucchini blossoms  \n",
       "0         0                  0  \n",
       "1         0                  0  \n",
       "2         0                  0  \n",
       "3         0                  0  \n",
       "4         0                  0  \n",
       "\n",
       "[5 rows x 6716 columns]"
      ]
     },
     "execution_count": 23,
     "metadata": {},
     "output_type": "execute_result"
    }
   ],
   "source": [
    "df_new.head()"
   ]
  },
  {
   "cell_type": "code",
   "execution_count": 24,
   "metadata": {},
   "outputs": [
    {
     "data": {
      "text/plain": [
       "(39774, 6717)"
      ]
     },
     "execution_count": 24,
     "metadata": {},
     "output_type": "execute_result"
    }
   ],
   "source": [
    "# Create a variable for recipe size \n",
    "df_new.insert(2, 'size_recipe', df_new.iloc[:, 2:].sum(axis=1))\n",
    "\n",
    "df_new.shape"
   ]
  },
  {
   "cell_type": "code",
   "execution_count": 25,
   "metadata": {},
   "outputs": [
    {
     "data": {
      "text/html": [
       "<div>\n",
       "<style scoped>\n",
       "    .dataframe tbody tr th:only-of-type {\n",
       "        vertical-align: middle;\n",
       "    }\n",
       "\n",
       "    .dataframe tbody tr th {\n",
       "        vertical-align: top;\n",
       "    }\n",
       "\n",
       "    .dataframe thead th {\n",
       "        text-align: right;\n",
       "    }\n",
       "</style>\n",
       "<table border=\"1\" class=\"dataframe\">\n",
       "  <thead>\n",
       "    <tr style=\"text-align: right;\">\n",
       "      <th></th>\n",
       "      <th>cuisine</th>\n",
       "      <th>id</th>\n",
       "      <th>size_recipe</th>\n",
       "      <th>(    oz.) tomato sauce</th>\n",
       "      <th>(   oz.) tomato paste</th>\n",
       "      <th>(10 oz.) frozen chopped spinach</th>\n",
       "      <th>(10 oz.) frozen chopped spinach, thawed and squeezed dry</th>\n",
       "      <th>(14 oz.) sweetened condensed milk</th>\n",
       "      <th>(14.5 oz.) diced tomatoes</th>\n",
       "      <th>(15 oz.) refried beans</th>\n",
       "      <th>...</th>\n",
       "      <th>yukon gold potatoes</th>\n",
       "      <th>yuzu</th>\n",
       "      <th>yuzu juice</th>\n",
       "      <th>za'atar</th>\n",
       "      <th>zest</th>\n",
       "      <th>zesty italian dressing</th>\n",
       "      <th>zinfandel</th>\n",
       "      <th>ziti</th>\n",
       "      <th>zucchini</th>\n",
       "      <th>zucchini blossoms</th>\n",
       "    </tr>\n",
       "  </thead>\n",
       "  <tbody>\n",
       "    <tr>\n",
       "      <th>0</th>\n",
       "      <td>greek</td>\n",
       "      <td>10259</td>\n",
       "      <td>9</td>\n",
       "      <td>0</td>\n",
       "      <td>0</td>\n",
       "      <td>0</td>\n",
       "      <td>0</td>\n",
       "      <td>0</td>\n",
       "      <td>0</td>\n",
       "      <td>0</td>\n",
       "      <td>...</td>\n",
       "      <td>0</td>\n",
       "      <td>0</td>\n",
       "      <td>0</td>\n",
       "      <td>0</td>\n",
       "      <td>0</td>\n",
       "      <td>0</td>\n",
       "      <td>0</td>\n",
       "      <td>0</td>\n",
       "      <td>0</td>\n",
       "      <td>0</td>\n",
       "    </tr>\n",
       "    <tr>\n",
       "      <th>1</th>\n",
       "      <td>southern_us</td>\n",
       "      <td>25693</td>\n",
       "      <td>11</td>\n",
       "      <td>0</td>\n",
       "      <td>0</td>\n",
       "      <td>0</td>\n",
       "      <td>0</td>\n",
       "      <td>0</td>\n",
       "      <td>0</td>\n",
       "      <td>0</td>\n",
       "      <td>...</td>\n",
       "      <td>0</td>\n",
       "      <td>0</td>\n",
       "      <td>0</td>\n",
       "      <td>0</td>\n",
       "      <td>0</td>\n",
       "      <td>0</td>\n",
       "      <td>0</td>\n",
       "      <td>0</td>\n",
       "      <td>0</td>\n",
       "      <td>0</td>\n",
       "    </tr>\n",
       "    <tr>\n",
       "      <th>2</th>\n",
       "      <td>filipino</td>\n",
       "      <td>20130</td>\n",
       "      <td>12</td>\n",
       "      <td>0</td>\n",
       "      <td>0</td>\n",
       "      <td>0</td>\n",
       "      <td>0</td>\n",
       "      <td>0</td>\n",
       "      <td>0</td>\n",
       "      <td>0</td>\n",
       "      <td>...</td>\n",
       "      <td>0</td>\n",
       "      <td>0</td>\n",
       "      <td>0</td>\n",
       "      <td>0</td>\n",
       "      <td>0</td>\n",
       "      <td>0</td>\n",
       "      <td>0</td>\n",
       "      <td>0</td>\n",
       "      <td>0</td>\n",
       "      <td>0</td>\n",
       "    </tr>\n",
       "    <tr>\n",
       "      <th>3</th>\n",
       "      <td>indian</td>\n",
       "      <td>22213</td>\n",
       "      <td>4</td>\n",
       "      <td>0</td>\n",
       "      <td>0</td>\n",
       "      <td>0</td>\n",
       "      <td>0</td>\n",
       "      <td>0</td>\n",
       "      <td>0</td>\n",
       "      <td>0</td>\n",
       "      <td>...</td>\n",
       "      <td>0</td>\n",
       "      <td>0</td>\n",
       "      <td>0</td>\n",
       "      <td>0</td>\n",
       "      <td>0</td>\n",
       "      <td>0</td>\n",
       "      <td>0</td>\n",
       "      <td>0</td>\n",
       "      <td>0</td>\n",
       "      <td>0</td>\n",
       "    </tr>\n",
       "    <tr>\n",
       "      <th>4</th>\n",
       "      <td>indian</td>\n",
       "      <td>13162</td>\n",
       "      <td>20</td>\n",
       "      <td>0</td>\n",
       "      <td>0</td>\n",
       "      <td>0</td>\n",
       "      <td>0</td>\n",
       "      <td>0</td>\n",
       "      <td>0</td>\n",
       "      <td>0</td>\n",
       "      <td>...</td>\n",
       "      <td>0</td>\n",
       "      <td>0</td>\n",
       "      <td>0</td>\n",
       "      <td>0</td>\n",
       "      <td>0</td>\n",
       "      <td>0</td>\n",
       "      <td>0</td>\n",
       "      <td>0</td>\n",
       "      <td>0</td>\n",
       "      <td>0</td>\n",
       "    </tr>\n",
       "  </tbody>\n",
       "</table>\n",
       "<p>5 rows × 6717 columns</p>\n",
       "</div>"
      ],
      "text/plain": [
       "       cuisine     id  size_recipe  (    oz.) tomato sauce  \\\n",
       "0        greek  10259            9                       0   \n",
       "1  southern_us  25693           11                       0   \n",
       "2     filipino  20130           12                       0   \n",
       "3       indian  22213            4                       0   \n",
       "4       indian  13162           20                       0   \n",
       "\n",
       "   (   oz.) tomato paste  (10 oz.) frozen chopped spinach  \\\n",
       "0                      0                                0   \n",
       "1                      0                                0   \n",
       "2                      0                                0   \n",
       "3                      0                                0   \n",
       "4                      0                                0   \n",
       "\n",
       "   (10 oz.) frozen chopped spinach, thawed and squeezed dry  \\\n",
       "0                                                  0          \n",
       "1                                                  0          \n",
       "2                                                  0          \n",
       "3                                                  0          \n",
       "4                                                  0          \n",
       "\n",
       "   (14 oz.) sweetened condensed milk  (14.5 oz.) diced tomatoes  \\\n",
       "0                                  0                          0   \n",
       "1                                  0                          0   \n",
       "2                                  0                          0   \n",
       "3                                  0                          0   \n",
       "4                                  0                          0   \n",
       "\n",
       "   (15 oz.) refried beans  ...  yukon gold potatoes  yuzu  yuzu juice  \\\n",
       "0                       0  ...                    0     0           0   \n",
       "1                       0  ...                    0     0           0   \n",
       "2                       0  ...                    0     0           0   \n",
       "3                       0  ...                    0     0           0   \n",
       "4                       0  ...                    0     0           0   \n",
       "\n",
       "   za'atar  zest  zesty italian dressing  zinfandel  ziti  zucchini  \\\n",
       "0        0     0                       0          0     0         0   \n",
       "1        0     0                       0          0     0         0   \n",
       "2        0     0                       0          0     0         0   \n",
       "3        0     0                       0          0     0         0   \n",
       "4        0     0                       0          0     0         0   \n",
       "\n",
       "   zucchini blossoms  \n",
       "0                  0  \n",
       "1                  0  \n",
       "2                  0  \n",
       "3                  0  \n",
       "4                  0  \n",
       "\n",
       "[5 rows x 6717 columns]"
      ]
     },
     "execution_count": 25,
     "metadata": {},
     "output_type": "execute_result"
    }
   ],
   "source": [
    "df_new.head()"
   ]
  },
  {
   "cell_type": "code",
   "execution_count": null,
   "metadata": {},
   "outputs": [],
   "source": [
    "# Partition the data in train and test sets\n",
    "from sklearn.model_selection import train_test_split\n",
    "\n",
    "t_size=0.2\n",
    "seed=7\n",
    "train, test = train_test_split(df_new, test_size=t_size, random_state=seed) #random_state = set.seed\n",
    "\n",
    "print(\"Train dataset = \" , len(train)) \n",
    "print(\"Test dataset = \" , len(test))"
   ]
  },
  {
   "cell_type": "code",
   "execution_count": 1,
   "metadata": {},
   "outputs": [
    {
     "ename": "NameError",
     "evalue": "name 'train' is not defined",
     "output_type": "error",
     "traceback": [
      "\u001b[0;31m----------------------------------------------------\u001b[0m",
      "\u001b[0;31mNameError\u001b[0m          Traceback (most recent call last)",
      "\u001b[0;32m<ipython-input-1-3b77fa18a747>\u001b[0m in \u001b[0;36m<module>\u001b[0;34m\u001b[0m\n\u001b[0;32m----> 1\u001b[0;31m \u001b[0mtrain\u001b[0m\u001b[0;34m.\u001b[0m\u001b[0mhead\u001b[0m\u001b[0;34m(\u001b[0m\u001b[0;34m)\u001b[0m\u001b[0;34m\u001b[0m\u001b[0;34m\u001b[0m\u001b[0m\n\u001b[0m",
      "\u001b[0;31mNameError\u001b[0m: name 'train' is not defined"
     ]
    }
   ],
   "source": [
    "train.head()"
   ]
  },
  {
   "cell_type": "code",
   "execution_count": null,
   "metadata": {},
   "outputs": [],
   "source": [
    "#reset index of train dataset\n",
    "train.reset_index(inplace=True,drop=True)\n",
    "train.shape"
   ]
  },
  {
   "cell_type": "code",
   "execution_count": null,
   "metadata": {},
   "outputs": [],
   "source": [
    "train.head()"
   ]
  },
  {
   "cell_type": "code",
   "execution_count": null,
   "metadata": {},
   "outputs": [],
   "source": [
    "test.head()"
   ]
  },
  {
   "cell_type": "code",
   "execution_count": null,
   "metadata": {},
   "outputs": [],
   "source": [
    "#reset index of test dataset\n",
    "test.reset_index(inplace=True , drop=True)\n",
    "test.shape"
   ]
  },
  {
   "cell_type": "code",
   "execution_count": null,
   "metadata": {},
   "outputs": [],
   "source": [
    "test.head()"
   ]
  },
  {
   "cell_type": "code",
   "execution_count": null,
   "metadata": {},
   "outputs": [],
   "source": [
    "# Creates a DataFrame in the original format for train set to be manipulated\n",
    "train_idx = train.index\n",
    "df_train = df.loc[train_idx].reset_index(drop=True)\n",
    "\n",
    "if (df_train.columns).contains('size_recipe'):\n",
    "    df_train.head()\n",
    "    df_train.shape\n",
    "else:\n",
    "    df_train.insert(2, 'size_recipe', df_train['ingredients'].apply(len))\n",
    "    df_train.head()\n",
    "    df_train.shape"
   ]
  },
  {
   "cell_type": "code",
   "execution_count": null,
   "metadata": {},
   "outputs": [],
   "source": [
    "df_train.head()"
   ]
  },
  {
   "cell_type": "code",
   "execution_count": null,
   "metadata": {},
   "outputs": [],
   "source": [
    "# Number of recipes per cuisine\n",
    "number_recipe_cuisine = df_train['cuisine'].value_counts()\n",
    "number_recipe_cuisine"
   ]
  },
  {
   "cell_type": "code",
   "execution_count": null,
   "metadata": {},
   "outputs": [],
   "source": [
    "count = number_recipe_cuisine.sum()\n",
    "print(\"Total number of Recipes = \", count)\n",
    "total = len(number_recipe_cuisine)\n",
    "print(\"Total cuisines = \", total)"
   ]
  },
  {
   "cell_type": "code",
   "execution_count": null,
   "metadata": {},
   "outputs": [],
   "source": [
    "# Top 10 most occurring ingredients\n",
    "all_ingredients = get_ingredients(df_train)\n",
    "all_ingredients.value_counts()[:10]"
   ]
  },
  {
   "cell_type": "code",
   "execution_count": null,
   "metadata": {},
   "outputs": [],
   "source": [
    "#Number of unique ingredients\n",
    "number = len(set(all_ingredients))\n",
    "print('Number of Unique Ingredients = ' , number)"
   ]
  },
  {
   "cell_type": "code",
   "execution_count": null,
   "metadata": {},
   "outputs": [],
   "source": [
    "# Group all ingredients by cuisine\n",
    "all_ingredients_cuisine = df_train.groupby('cuisine')['ingredients'].sum()\n",
    "all_ingredients_cuisine"
   ]
  },
  {
   "cell_type": "code",
   "execution_count": null,
   "metadata": {},
   "outputs": [],
   "source": [
    "cuisine_count = all_ingredients_cuisine.apply(frequencyItems)\n",
    "cuisine_count"
   ]
  },
  {
   "cell_type": "code",
   "execution_count": null,
   "metadata": {},
   "outputs": [],
   "source": [
    "unique_ingredients_cuisine = all_ingredients_cuisine.apply(removeDuplicatesItems)\n",
    "unique_ingredients_cuisine"
   ]
  },
  {
   "cell_type": "code",
   "execution_count": null,
   "metadata": {},
   "outputs": [],
   "source": [
    "# Lists number of unique ingredients per cuisine\n",
    "unique_ingredients_cuisine.apply(len).sort_values(ascending=False)"
   ]
  },
  {
   "cell_type": "code",
   "execution_count": null,
   "metadata": {},
   "outputs": [],
   "source": [
    "# Get unique ingredients\n",
    "unique_ingredients = get_ingredients(unique_ingredients_cuisine).unique()\n",
    "number = len(unique_ingredients)\n",
    "print(\"Unique ingredients = \" , number)"
   ]
  },
  {
   "cell_type": "code",
   "execution_count": null,
   "metadata": {},
   "outputs": [],
   "source": [
    "def check_for_ingredient(my_dict, ingredient):\n",
    "    result = {}\n",
    "    for cuisine, list_ingredients in my_dict.items():\n",
    "        if ingredient in list_ingredients:\n",
    "            result[cuisine] = list_ingredients[ingredient]\n",
    "    return result"
   ]
  },
  {
   "cell_type": "code",
   "execution_count": null,
   "metadata": {},
   "outputs": [],
   "source": [
    "# Number of times each ingredient appear in a cuisine\n",
    "def number_cuisine_per_ingredient(unique):\n",
    "    cuisines_count_per_ingredient = dict()\n",
    "    for ingredient in unique:\n",
    "        cuisines_count_per_ingredient[ingredient] = check_for_ingredient(cuisine_count, ingredient)\n",
    "    return Series(cuisines_count_per_ingredient)\n",
    "        \n",
    "cuisines_count_per_ingredient = number_cuisine_per_ingredient(unique_ingredients)\n",
    "\n",
    "cuisines_count_per_ingredient.head()"
   ]
  },
  {
   "cell_type": "code",
   "execution_count": null,
   "metadata": {},
   "outputs": [],
   "source": [
    "# Extract cuisines from a dict\n",
    "def extract_cuisine(my_series):\n",
    "    return list(my_series.keys())"
   ]
  },
  {
   "cell_type": "code",
   "execution_count": null,
   "metadata": {},
   "outputs": [],
   "source": [
    "cuisines_per_ingredient = cuisines_count_per_ingredient.apply(extract_cuisine)\n",
    "cuisines_per_ingredient[:10]"
   ]
  },
  {
   "cell_type": "code",
   "execution_count": null,
   "metadata": {},
   "outputs": [],
   "source": [
    "def get_common_ingredients(data):\n",
    "    common = set(data.loc[data.index[0]])\n",
    "    for cuisine in data.index[1:]:\n",
    "        next_cuisine = set(data.loc[cuisine])\n",
    "        common.intersection_update(next_cuisine)\n",
    "    return list(common)"
   ]
  },
  {
   "cell_type": "code",
   "execution_count": null,
   "metadata": {},
   "outputs": [],
   "source": [
    "common_ingredients = get_common_ingredients(unique_ingredients_cuisine)\n",
    "common_ingredients[:10]"
   ]
  },
  {
   "cell_type": "code",
   "execution_count": null,
   "metadata": {},
   "outputs": [],
   "source": [
    "number = len(common_ingredients)\n",
    "print(\"Common ingredients = \" , number)"
   ]
  },
  {
   "cell_type": "code",
   "execution_count": null,
   "metadata": {},
   "outputs": [],
   "source": [
    "#Remove ingredients from a list of ingredients\n",
    "def remove_ingredients(series, remove):\n",
    "    return list(set(series) - set(remove))"
   ]
  },
  {
   "cell_type": "code",
   "execution_count": null,
   "metadata": {},
   "outputs": [],
   "source": [
    "unique_ingredients_cuisine = unique_ingredients_cuisine.apply(remove_ingredients, remove=common_ingredients)\n",
    "unique_ingredients_cuisine.apply(len).sort_values(ascending=False)"
   ]
  },
  {
   "cell_type": "code",
   "execution_count": null,
   "metadata": {},
   "outputs": [],
   "source": [
    "#Removes common ingredientes of the list all observation of all ingredients used in all recipes\n",
    "all_ingredients = all_ingredients[~all_ingredients.isin(Series(common_ingredients))]\n",
    "all_ingredients.reset_index(drop=True, inplace=True)\n",
    "all_ingredients.value_counts()[:20]"
   ]
  },
  {
   "cell_type": "code",
   "execution_count": null,
   "metadata": {},
   "outputs": [],
   "source": [
    "# Number of unique ingredients after removing common ingredients\n",
    "count = len(set(all_ingredients))\n",
    "print(\"Unique ingredients = \", count)"
   ]
  },
  {
   "cell_type": "markdown",
   "metadata": {},
   "source": [
    "#  DataFrame Manipulation"
   ]
  },
  {
   "cell_type": "code",
   "execution_count": null,
   "metadata": {},
   "outputs": [],
   "source": [
    "df_train.head()"
   ]
  },
  {
   "cell_type": "code",
   "execution_count": null,
   "metadata": {},
   "outputs": [],
   "source": [
    "# Remove ingredients and zero ingredient recipes from a table\n",
    "def remove_ingredients_from_table(df, ingredients_to_remove):\n",
    "    new_df = df.copy()\n",
    "    # Removes common ingredients from DataFrame\n",
    "    new_df.loc[:, 'ingredients'] = new_df.loc[:, 'ingredients'].apply(remove_ingredients, remove=ingredients_to_remove)\n",
    "    new_df.loc[:, 'size_recipe'] = new_df.loc[:, 'ingredients'].apply(len)\n",
    "    \n",
    "    if any(new_df['size_recipe'] == 0):     # Checks for zero ingredient recipes to remove\n",
    "        new_df = new_df[new_df['size_recipe'] != 0]        # Removes zero ingredient recipes from DataFrame\n",
    "        new_df.reset_index(drop=True, inplace=True)\n",
    "\n",
    "    return new_df"
   ]
  },
  {
   "cell_type": "code",
   "execution_count": null,
   "metadata": {},
   "outputs": [],
   "source": [
    "df_train = remove_ingredients_from_table(df_train, common_ingredients)\n",
    "df_train.head()"
   ]
  },
  {
   "cell_type": "code",
   "execution_count": null,
   "metadata": {},
   "outputs": [],
   "source": [
    "df_train.shape"
   ]
  },
  {
   "cell_type": "code",
   "execution_count": null,
   "metadata": {},
   "outputs": [],
   "source": [
    "# Method to remove ingredients and zero ingredient recipes\n",
    "def remove_ingredients_from_table_dummified(df, ingredients_to_remove, drop_rows=True):\n",
    "    # Remove ingredients from columns\n",
    "    df = df.loc[:, ~df.columns.isin(ingredients_to_remove)]\n",
    "    df.loc[:, 'size_recipe'] = df.iloc[:, 4:].sum(axis=1)     # Update size_recipe\n",
    "\n",
    "    # Remove zero ingredient recipes left after removing common ingredients\n",
    "    if drop_rows:\n",
    "        df = df[df['size_recipe'] != 0]\n",
    "        return df\n",
    "    else:\n",
    "        return df"
   ]
  },
  {
   "cell_type": "code",
   "execution_count": null,
   "metadata": {},
   "outputs": [],
   "source": [
    "df_train_new = remove_ingredients_from_table_dummified(df_new, common_ingredients)\n",
    "df_train_new.head()"
   ]
  },
  {
   "cell_type": "code",
   "execution_count": null,
   "metadata": {},
   "outputs": [],
   "source": [
    "df_train_new.shape"
   ]
  },
  {
   "cell_type": "code",
   "execution_count": null,
   "metadata": {},
   "outputs": [],
   "source": [
    "# Updates variables after removal of common ingredients from dataset\n",
    "# Number of recipes per cuisine\n",
    "number_recipe_cuisine = df_train['cuisine'].value_counts()\n",
    "number_recipe_cuisine[:10]"
   ]
  },
  {
   "cell_type": "code",
   "execution_count": null,
   "metadata": {},
   "outputs": [],
   "source": [
    "all_ingredients = get_ingredients(df_train)\n",
    "all_ingredients.value_counts()[:10]"
   ]
  },
  {
   "cell_type": "code",
   "execution_count": null,
   "metadata": {},
   "outputs": [],
   "source": [
    "# Group all ingredients by cuisine after removing common ingredients\n",
    "all_ingredients_cuisine = df_train.groupby('cuisine')['ingredients'].sum()\n",
    "all_ingredients_cuisine"
   ]
  },
  {
   "cell_type": "code",
   "execution_count": null,
   "metadata": {},
   "outputs": [],
   "source": [
    "all_ingredient_by_cuisine_count = all_ingredients_cuisine.apply(frequencyItems)\n",
    "all_ingredient_by_cuisine_count"
   ]
  },
  {
   "cell_type": "code",
   "execution_count": null,
   "metadata": {},
   "outputs": [],
   "source": [
    "unique_ingredients_cuisine = all_ingredients_cuisine.apply(removeDuplicatesItems)\n",
    "unique_ingredients_cuisine"
   ]
  },
  {
   "cell_type": "code",
   "execution_count": null,
   "metadata": {},
   "outputs": [],
   "source": [
    "# Lists number of unique ingredients per cuisine\n",
    "unique_ingredients_cuisine.apply(len).sort_values(ascending=False)"
   ]
  },
  {
   "cell_type": "code",
   "execution_count": null,
   "metadata": {},
   "outputs": [],
   "source": [
    "# Get unique ingredients\n",
    "unique_ingredients = Series(get_ingredients(unique_ingredients_cuisine).unique())\n",
    "unique_ingredients[:10]"
   ]
  },
  {
   "cell_type": "code",
   "execution_count": null,
   "metadata": {},
   "outputs": [],
   "source": [
    "number = len(unique_ingredients)\n",
    "print('Number of Unique ingredients after removing common ingredients = ' , number)"
   ]
  },
  {
   "cell_type": "code",
   "execution_count": null,
   "metadata": {},
   "outputs": [],
   "source": [
    "# Number of cuisines each ingredient appears after removing common ingredients\n",
    "cuisines_count_per_ingredient = number_cuisine_per_ingredient(unique_ingredients)\n",
    "cuisines_count_per_ingredient[:20]"
   ]
  },
  {
   "cell_type": "code",
   "execution_count": null,
   "metadata": {},
   "outputs": [],
   "source": [
    "# Cuisines in which each ingredient appears\n",
    "cuisines_per_ingredient = cuisines_count_per_ingredient.apply(extract_cuisine)\n",
    "cuisines_per_ingredient[:10]"
   ]
  },
  {
   "cell_type": "code",
   "execution_count": null,
   "metadata": {},
   "outputs": [],
   "source": [
    "#  Top 10 ingredients per cuisine after removing common ingredients\n",
    "top10 = Series()\n",
    "\n",
    "for cuisine, list_ingredients in all_ingredient_by_cuisine_count.items():\n",
    "    top10.loc[cuisine] = []\n",
    "    for ingredient, occurrence in Series(list_ingredients)[:10].items():\n",
    "        top10.loc[cuisine].append(ingredient)\n",
    "\n",
    "\n",
    "df_top10 = DataFrame.from_items(zip(top10.index, top10.values)).T\n",
    "df_top10.columns = ['top{}'.format(i) for i in range(1, 11)]\n",
    "df_top10"
   ]
  },
  {
   "cell_type": "code",
   "execution_count": null,
   "metadata": {},
   "outputs": [],
   "source": [
    "# Finds the cuisines with same name ingredients \n",
    "all_ingredients_same_name_cuisine = Series()\n",
    "\n",
    "for cuisine, list_ingredients in all_ingredients_cuisine.items():\n",
    "    all_ingredients_same_name_cuisine.loc[cuisine] = all_ingredients_same_name_cuisine.get(cuisine, [])\n",
    "    for ingredient in list_ingredients:\n",
    "        if cuisine in ingredient:\n",
    "            all_ingredients_same_name_cuisine.loc[cuisine].append(ingredient)\n",
    "            \n",
    "all_ingredients_same_name_cuisine"
   ]
  },
  {
   "cell_type": "code",
   "execution_count": null,
   "metadata": {},
   "outputs": [],
   "source": [
    "# Counts the number of recipes(occurrences) in which same cuisine/ingredients name appear\n",
    "all_ingredients_same_name_cuisine.apply(len)"
   ]
  },
  {
   "cell_type": "code",
   "execution_count": null,
   "metadata": {},
   "outputs": [],
   "source": [
    "# Number of recipes with same name ingredient\n",
    "all_ingredients_same_name_cuisine.apply(len).sum(axis=0)"
   ]
  },
  {
   "cell_type": "code",
   "execution_count": null,
   "metadata": {},
   "outputs": [],
   "source": [
    "all_ingredients_same_name_cuisine_count = all_ingredients_same_name_cuisine.apply(frequencyItems)\n",
    "all_ingredients_same_name_cuisine_count"
   ]
  },
  {
   "cell_type": "code",
   "execution_count": null,
   "metadata": {},
   "outputs": [],
   "source": [
    "#Lists of unique cuisine/ingredients names\n",
    "unique_ingredients_same_name_cuisine = all_ingredients_same_name_cuisine.apply(removeDuplicatesItems)\n",
    "unique_ingredients_same_name_cuisine"
   ]
  },
  {
   "cell_type": "code",
   "execution_count": null,
   "metadata": {},
   "outputs": [],
   "source": [
    "# Number of unique ingredients per cuisine\n",
    "unique_ingredients_same_name_cuisine.apply(len)"
   ]
  },
  {
   "cell_type": "code",
   "execution_count": null,
   "metadata": {},
   "outputs": [],
   "source": [
    "# Total occurrences of same cuisine/ingredient name\n",
    "sum = all_ingredients_same_name_cuisine_count.apply(len).sum()\n",
    "print('Number of Instances of same cuisine name = ' , sum)"
   ]
  },
  {
   "cell_type": "code",
   "execution_count": null,
   "metadata": {},
   "outputs": [],
   "source": [
    "# Get unique same name ingredients\n",
    "unique_same_name_ingredients = Series(get_ingredients(unique_ingredients_same_name_cuisine).unique())\n",
    "%store unique_same_name_ingredients\n",
    "\n",
    "unique_same_name_ingredients[:10]"
   ]
  },
  {
   "cell_type": "code",
   "execution_count": null,
   "metadata": {},
   "outputs": [],
   "source": [
    "number = len(unique_same_name_ingredients)\n",
    "print('Number of Unique_ingredients = ' , number)"
   ]
  },
  {
   "cell_type": "code",
   "execution_count": null,
   "metadata": {},
   "outputs": [],
   "source": [
    "# Number of times each same name ingredient appear in a cuisine\n",
    "cuisines_count_per_same_name_ingredient = number_cuisine_per_ingredient(unique_same_name_ingredients)\n",
    "cuisines_count_per_same_name_ingredient[:10]"
   ]
  },
  {
   "cell_type": "code",
   "execution_count": null,
   "metadata": {},
   "outputs": [],
   "source": [
    "# Checks in how many other cuisines the same name cuisine-ingredients appear\n",
    "# Get name of cuisine from dictionary with frequency in which they appear\n",
    "cuisines_per_same_name_ingredient = cuisines_count_per_same_name_ingredient.apply(extract_cuisine)\n",
    "cuisines_per_same_name_ingredient[:10]"
   ]
  },
  {
   "cell_type": "code",
   "execution_count": null,
   "metadata": {},
   "outputs": [],
   "source": [
    "# Number of cuisine each same name cuisine appears (first 10 ingredients)\n",
    "cuisines_per_same_name_ingredient.apply(len)[:10]"
   ]
  },
  {
   "cell_type": "markdown",
   "metadata": {},
   "source": [
    "# Data Modeling"
   ]
  },
  {
   "cell_type": "code",
   "execution_count": null,
   "metadata": {},
   "outputs": [],
   "source": [
    "df_train['all_ingredients'] = df_train['ingredients'].map(\";\".join)\n",
    "\n",
    "from sklearn.feature_extraction.text import CountVectorizer\n",
    "cv = CountVectorizer()\n",
    "X = cv.fit_transform(df_train['all_ingredients'].values)\n",
    "X.shape"
   ]
  },
  {
   "cell_type": "code",
   "execution_count": null,
   "metadata": {},
   "outputs": [],
   "source": [
    "from sklearn.preprocessing import LabelEncoder\n",
    "enc = LabelEncoder()\n",
    "y = enc.fit_transform(df_train.cuisine)\n",
    "y[:100]"
   ]
  },
  {
   "cell_type": "markdown",
   "metadata": {},
   "source": [
    "# KNN"
   ]
  },
  {
   "cell_type": "code",
   "execution_count": null,
   "metadata": {},
   "outputs": [],
   "source": [
    "#KNN\n",
    "from sklearn.metrics import classification_report\n",
    "from sklearn.metrics import confusion_matrix\n",
    "from sklearn.neighbors import KNeighborsClassifier\n",
    "from sklearn.metrics import accuracy_score\n",
    "X_train, X_test, y_train, y_test = train_test_split(X, y, test_size=0.2)\n"
   ]
  },
  {
   "cell_type": "code",
   "execution_count": null,
   "metadata": {},
   "outputs": [],
   "source": [
    "knn = KNeighborsClassifier(n_neighbors=1)\n",
    "knn.fit(X_train, y_train)\n",
    "predictions = knn.predict(X_test)\n",
    "print(\"KNN Accuracy: \",accuracy_score(y_test, predictions))"
   ]
  },
  {
   "cell_type": "code",
   "execution_count": null,
   "metadata": {},
   "outputs": [],
   "source": [
    "print('Confusion Matrix: \\n',confusion_matrix(y_test, predictions))"
   ]
  },
  {
   "cell_type": "code",
   "execution_count": null,
   "metadata": {},
   "outputs": [],
   "source": [
    "print('Classification Report: \\n',classification_report(y_test, predictions))"
   ]
  },
  {
   "cell_type": "code",
   "execution_count": null,
   "metadata": {},
   "outputs": [],
   "source": [
    "# Trying results on different k values\n",
    "error_rate = []\n",
    "\n",
    "for i in range(1, 40):\n",
    "    knn = KNeighborsClassifier(n_neighbors=i)\n",
    "    knn.fit(X_train, y_train)\n",
    "    pred_i = knn.predict(X_test)\n",
    "    error_rate.append(np.mean(pred_i != y_test))"
   ]
  },
  {
   "cell_type": "code",
   "execution_count": null,
   "metadata": {},
   "outputs": [],
   "source": [
    "plt.figure(figsize=(12, 8))\n",
    "        # X-axis, Y-asix\n",
    "plt.plot(range(1, 40), error_rate, color=\"blue\", linestyle='--', marker='o', markerfacecolor='red', markersize=10)\n",
    "plt.title('Error Rate vs. K Value')\n",
    "plt.xlabel('K')\n",
    "plt.ylabel('Error Rate')"
   ]
  },
  {
   "cell_type": "code",
   "execution_count": null,
   "metadata": {},
   "outputs": [],
   "source": [
    "knn = KNeighborsClassifier(n_neighbors=9)\n",
    "knn.fit(X_train, y_train)\n",
    "predictions = knn.predict(X_test)\n",
    "print(\"KNN Accuracy: \",accuracy_score(y_test, predictions))"
   ]
  },
  {
   "cell_type": "code",
   "execution_count": null,
   "metadata": {},
   "outputs": [],
   "source": [
    "knn = KNeighborsClassifier(n_neighbors=22)\n",
    "knn.fit(X_train, y_train)\n",
    "predictions = knn.predict(X_test)\n",
    "print(\"KNN Accuracy: \",accuracy_score(y_test, predictions))"
   ]
  },
  {
   "cell_type": "markdown",
   "metadata": {},
   "source": [
    "# Logistic Regression"
   ]
  },
  {
   "cell_type": "code",
   "execution_count": null,
   "metadata": {},
   "outputs": [],
   "source": [
    "#LogisticRegression\n",
    "from sklearn.linear_model import LogisticRegression\n",
    "logistic = LogisticRegression(solver='lbfgs', max_iter=1000)\n",
    "logistic.fit(X_train, y_train)\n",
    "pred = logistic.predict(X_test)"
   ]
  },
  {
   "cell_type": "code",
   "execution_count": null,
   "metadata": {},
   "outputs": [],
   "source": [
    "print('Logistic Regression Accuracy: ', accuracy_score(pred, y_test))"
   ]
  },
  {
   "cell_type": "code",
   "execution_count": null,
   "metadata": {},
   "outputs": [],
   "source": [
    "print('Confusion Matrix: \\n',confusion_matrix(y_test, pred))"
   ]
  },
  {
   "cell_type": "code",
   "execution_count": null,
   "metadata": {},
   "outputs": [],
   "source": [
    "print('Classification Report: \\n',classification_report(y_test, pred))"
   ]
  },
  {
   "cell_type": "markdown",
   "metadata": {},
   "source": [
    "# Random Forest"
   ]
  },
  {
   "cell_type": "code",
   "execution_count": null,
   "metadata": {},
   "outputs": [],
   "source": [
    "from sklearn.ensemble import RandomForestClassifier\n",
    "\n",
    "#Create a Gaussian Classifier\n",
    "clf=RandomForestClassifier(n_estimators=100)\n",
    "\n",
    "#Train the model using the training sets y_pred=clf.predict(X_test)\n",
    "clf.fit(X_train,y_train)\n",
    "\n",
    "y_pred=clf.predict(X_test)\n",
    "\n",
    "from sklearn import metrics\n",
    "# Model Accuracy, how often is the classifier correct?\n",
    "print(\"RandomForest Accuracy:\",metrics.accuracy_score(y_test, y_pred))"
   ]
  },
  {
   "cell_type": "code",
   "execution_count": null,
   "metadata": {},
   "outputs": [],
   "source": [
    "print('Confusion Matrix: \\n',confusion_matrix(y_test, y_pred))"
   ]
  },
  {
   "cell_type": "code",
   "execution_count": null,
   "metadata": {},
   "outputs": [],
   "source": [
    "print('Classification Report: \\n',classification_report(y_test, y_pred))"
   ]
  },
  {
   "cell_type": "markdown",
   "metadata": {},
   "source": [
    "# Desicion Tree"
   ]
  },
  {
   "cell_type": "code",
   "execution_count": null,
   "metadata": {},
   "outputs": [],
   "source": [
    "#Dexision Tree\n",
    "from sklearn.tree import DecisionTreeClassifier\n",
    "from sklearn.model_selection import cross_val_score, StratifiedShuffleSplit, RepeatedKFold, train_test_split\n",
    "Gini = DecisionTreeClassifier( criterion='gini' )\n"
   ]
  },
  {
   "cell_type": "code",
   "execution_count": null,
   "metadata": {},
   "outputs": [],
   "source": [
    "#Classifier without pruning using gini\n",
    "CV = RepeatedKFold(n_splits = 10, n_repeats = 10, random_state = 1)\n",
    "\n",
    "CV2 = StratifiedShuffleSplit(n_splits=100, test_size=0.2, random_state=0)\n",
    "\n",
    "Acc_n_Std = cross_val_score(Gini, X, y, scoring='accuracy', cv=CV, n_jobs = -1)\n",
    "print('Accuracy: ', np.mean(Acc_n_Std), ' Standard Deviation: ', np.std(Acc_n_Std))\n",
    "\n",
    "Acc_n_Std = cross_val_score(Gini, X, y, scoring='accuracy', cv=CV2, n_jobs = -1)\n",
    "print('Accuracy: ', np.mean(Acc_n_Std), ' Standard Deviation: ', np.std(Acc_n_Std))"
   ]
  }
 ],
 "metadata": {
  "kernelspec": {
   "display_name": "Python 3",
   "language": "python",
   "name": "python3"
  },
  "language_info": {
   "codemirror_mode": {
    "name": "ipython",
    "version": 3
   },
   "file_extension": ".py",
   "mimetype": "text/x-python",
   "name": "python",
   "nbconvert_exporter": "python",
   "pygments_lexer": "ipython3",
   "version": "3.8.5"
  },
  "metadata": {
   "interpreter": {
    "hash": "d62006d1f3422635846181a997a61e8ec3049f797e5d7dfe0cd1bb84092b7c19"
   }
  }
 },
 "nbformat": 4,
 "nbformat_minor": 5
}
